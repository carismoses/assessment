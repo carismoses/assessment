{
 "cells": [
  {
   "cell_type": "markdown",
   "metadata": {},
   "source": [
    "# Assignment\n",
    "\n",
    "## Problem 1: Object Representations\n",
    "\n",
    "For this assigment we will assume all objects are rectangles and their initial locations will be specified with a position. For this first problem we are simply going to generate various objects. The cell below gives the namedtuples for making an Object. Each Object instance has dimensions, mass, and an RGB color.\n",
    "\n",
    "If you have never worked with namedtuples, they can be instantiated just like a class instance. Read more about them [here](<https://pymotw.com/2/collections/namedtuple.html>)."
   ]
  },
  {
   "cell_type": "code",
   "execution_count": 1,
   "metadata": {},
   "outputs": [],
   "source": [
    "from collections import namedtuple\n",
    "\n",
    "Position = namedtuple('Position', 'x y z')\n",
    "'''\n",
    ":param x: float, x position\n",
    ":param y: float, y position\n",
    ":param z: float, z position\n",
    "'''\n",
    "Dimensions = namedtuple('Dimensions', 'width length height')\n",
    "'''\n",
    ":param width: float, width of object (in the x direction)\n",
    ":param length: float, length of object (in the y direction)\n",
    ":param height: float, height of object (in the z direction)\n",
    "'''\n",
    "Color = namedtuple('Color', 'r g b')\n",
    "'''\n",
    ":param r: float in [0.,1.], red value\n",
    ":param g: float in [0.,1.], green value\n",
    ":param b: float in [0.,1.], blue value\n",
    "'''\n",
    "Object = namedtuple('Object', 'dimensions mass color')\n",
    "'''\n",
    ":param dimensions: Dimensions, dimensions of object\n",
    ":param mass: float, mass of the object\n",
    ":param color: Color, RGB value of block\n",
    "''';"
   ]
  },
  {
   "cell_type": "markdown",
   "metadata": {},
   "source": [
    "1. **In the cell below make 4 different** ```Object``` **instances, all having different object properties.**\n",
    "2. **Make an** ```objects_dictionary``` **which is a dictionary where the keys are unique object names (strings) and the values are the** ```Object``` **instances you created.**"
   ]
  },
  {
   "cell_type": "code",
   "execution_count": 2,
   "metadata": {},
   "outputs": [],
   "source": [
    "# Problem 1 code here"
   ]
  },
  {
   "cell_type": "markdown",
   "metadata": {},
   "source": [
    "## Problem 2: Object Positions and PyBullet\n",
    "\n",
    "[PyBullet](<https://pypi.org/project/pybullet/>) (documentataion [here](<https://docs.google.com/document/d/10sXEhzFRSnvFcl3XxNGhnD4N2SedqwdAvK3dsihxVUA/edit#heading=h.2ye70wns7io3>)) is a physics simulator. We will be visualizing the objects with it. In order to visualize the objects you created, we need to give them a position. Then, the positions and object information above can be used to render the objects in pyBullet."
   ]
  },
  {
   "cell_type": "markdown",
   "metadata": {},
   "source": [
    "1. **Create an** ```object_positions_dictionary``` **which is a dictionary where the keys are the unique object names (strings) from Problem 1, and the values are** ```Position``` **namedtuples indicating the positions of the objects in the world frame. This dictionary must include a 'ground' object with** ```Position(0,0,0)``` **. The objects can be arranged any way you like.**\n",
    "2. **Create an** ```object_positions_dictionary``` **where the objects are all stacked on top of eachother.**\n",
    "3. **Use the function provided,** ```render_objects(objects_dictionary, object_positions_dictionary)```**, to render the scenes you specified in 2.1 and 2.2. There is an optional parameter to** ```render_objects``` **called** ```time_steps```**. The default value is 10000. You can increase or decrease this value to change how long the sim window stay open.**\n",
    "\n",
    "*Hint: use Ctrl+mouse to view the simulated scene from different angles.*"
   ]
  },
  {
   "cell_type": "code",
   "execution_count": 3,
   "metadata": {},
   "outputs": [],
   "source": [
    "from utils import render_objects\n",
    "\n",
    "# Problem 2 code here"
   ]
  },
  {
   "cell_type": "markdown",
   "metadata": {},
   "source": [
    "You may have noticed that if a cell dies while rendering, the next time you try to run it you get the following error\n",
    "\n",
    "**<span style=\"color:red\">error</span>: Only one local in-process GUI/GUI_SERVER connection allowed. Use DIRECT connection mode or start a separate GUI physics server (ExampleBrowser, App_SharedMemoryPhysics_GUI, App_SharedMemoryPhysics_VR) and connect over SHARED_MEMORY, UDP or TCP instead.**\n",
    "\n",
    "If this happens, run the cell below to disconnect from the pyBullet server. If it still doesn't work you may have to restart the kernel. If a cell runs to completion without crashing then you do not have to run the cell below."
   ]
  },
  {
   "cell_type": "code",
   "execution_count": null,
   "metadata": {},
   "outputs": [],
   "source": [
    "from utils import disconnect\n",
    "disconnect()"
   ]
  },
  {
   "cell_type": "markdown",
   "metadata": {},
   "source": [
    "## Problem 3: Contact States\n",
    "\n",
    "Now that we know how to specify global/world positions of objects in the world, we want to specify contact arrangements of objects relative to each other. To do this there is a ```Contact``` namedtuple given below which gives the position of one object in the frame of another. For the remainder of this assigment only use 2 objects (not including the ground).\n",
    "\n",
    "1. __A__ ```contact_state``` **is a list of** ```Contact``` **instances. One of these** ```Contact```**s must include the ground. Make a** ```contact_state``` **for the 2 objects you chose. Make it a stable contact state (the objects don't fall when rendered).**\n",
    "2. **Make an unstable** ```contact_state```**, meaning the objects fall when rendered.**\n",
    "2. **Write a function**, ```get_ps_from_contacts(object_dictionary, contact_state)```**, which outputs an** ```object_positions_dictionary```**.** \n",
    "3. **Use the output position dictionary to render both contact states (from 3.1 and 3.2) in pyBullet.**"
   ]
  },
  {
   "cell_type": "code",
   "execution_count": 4,
   "metadata": {},
   "outputs": [],
   "source": [
    "from utils import render_objects\n",
    "Contact = namedtuple('Contact', 'objectA_name objectB_name p_a_b')\n",
    "'''\n",
    ":param objectA_name: string, name of object A involved in contact\n",
    ":param objectB_name: string, name of object B involved in contact\n",
    ":param p_a_b: Position, the position of object A's link frame in object B' link frame\n",
    "''';\n",
    "# Problem 3 code here"
   ]
  },
  {
   "cell_type": "markdown",
   "metadata": {},
   "source": [
    "# Problem 4: Stack Stability\n",
    "\n",
    "Assume that you are an agent trying to determine if a contact state results in a stable arrangement of blocks. Can you write a piece of code which detects this? Play around with a few different object arrangements to ensure that your test is robust. To perform this I will give you a few more tools:\n",
    "\n",
    "- ```setup_env(objects_dictionary, object_positions_dictionary)``` returns a dictionary which maps from object names (the same key values used in the ```objects_dictionary```) to an ```object_id```, which are assigned in pyBullet to uniquely identify each object.\n",
    "- ```get_position(object_id)``` takes in an ```object_id``` and returns a tuple of length 3 representing the position of the object in the world frame.\n",
    "- ```get_orientation(object_id)``` takes in an  ```object_id``` and returns a tuple of length 4 representing the orientataion (quaternion) of the object in the world frame.\n",
    "- ```get_linear_velocity(object_id)``` takes in an  ```object_id``` and returns a tuple of length 3 representing the linear velocity of the object in the world frame.\n",
    "- ```get_angular_velocity(object_id)``` takes in an ```object_id``` and a tuple of length 3 representing the angular velocity of the object in the world frame.\n",
    "- ```get_contact_state(object_a_id, object_b_id)``` takes in 2 ```object_id```s and returns a list of information regarding the points of contact between the 2 objects. Each entry in the list corresponds to a point of contact between the 2 objects, and is represented by a ```PybulletContactState``` namedtuple. A ```PyBulletContactState``` has 3 fields: \n",
    "    - ```positionOnA```: the position of the contact point on object_a in the world frame\n",
    "    - ```positionOnB```: the position of the contact point on object_b in the world frame\n",
    "    - ```contactNormalOnB```: contact normal force on B, pointing towards A\n",
    "\n",
    "Not all of these tools may be necessary and there is definitely more than one way to answer this question.\n",
    "\n",
    "**Write a function** ```check_stability(objects_dictionary, contact_state)``` **which returns True is the contact state is stable and False otherwise. Test it with the** ```contact_state```**s from Problem 3.**"
   ]
  },
  {
   "cell_type": "code",
   "execution_count": null,
   "metadata": {},
   "outputs": [],
   "source": [
    "import time\n",
    "from utils import setup_env, step, get_position, get_orientation, get_linear_velocity, \\\n",
    "                    get_angular_velocity, get_contact_state, disconnect\n",
    "\n",
    "# Problem 4 code here\n",
    "def check_stability(objects_dictionary, contact_state):\n",
    "    obj_ps = get_ps_from_contacts(contact_state, objects_dictionary)\n",
    "    # set vis to True if you don't want to render the scene in a GUI\n",
    "    # (keep in mind that the GUI can slow down execution time)\n",
    "    object_ids = setup_env(objects_dictionary, obj_ps, vis=False)\n",
    "    T = 500\n",
    "\n",
    "    for t in range(T):\n",
    "        step()\n",
    "        time.sleep(.001)\n",
    "        # add code here to do things on each step of the simulation\n",
    "\n",
    "    disconnect()\n",
    "    return stable"
   ]
  },
  {
   "cell_type": "markdown",
   "metadata": {},
   "source": [
    "## Problem 5: Stack Stability Search\n",
    "\n",
    "Now that we have a test for stack stability, we can write a simple search algorithm to find a stable arrangement of 2 blocks. This is a continuous search problem as the block positions are continuous variables, but to make it simpler, search over a discrete set of possible block contact arrangements and states.\n",
    "\n",
    "**Write a search algorithm,** ```stable_stack_search(objects_dictionary)```**, which returns and renders a** ```contact_state``` **with 2 blocks in a stable arrangement.**"
   ]
  },
  {
   "cell_type": "code",
   "execution_count": null,
   "metadata": {},
   "outputs": [],
   "source": [
    "# Problem 5 code here"
   ]
  },
  {
   "cell_type": "markdown",
   "metadata": {},
   "source": [
    "## Question: Search Speed Up\n",
    "\n",
    "Can you think of any heuristics which would speed up this search process? Are there any object properties which can inform which possible contact arrangements and/or states will be less likely to result in a stable arragement? This problem does not require any code. Just jot down some ideas in the Markdown cell below."
   ]
  },
  {
   "cell_type": "markdown",
   "metadata": {},
   "source": []
  },
  {
   "cell_type": "markdown",
   "metadata": {},
   "source": [
    "That's it! Good work!"
   ]
  }
 ],
 "metadata": {
  "kernelspec": {
   "display_name": "Python 3",
   "language": "python",
   "name": "python3"
  },
  "language_info": {
   "codemirror_mode": {
    "name": "ipython",
    "version": 3
   },
   "file_extension": ".py",
   "mimetype": "text/x-python",
   "name": "python",
   "nbconvert_exporter": "python",
   "pygments_lexer": "ipython3",
   "version": "3.7.5"
  }
 },
 "nbformat": 4,
 "nbformat_minor": 2
}
